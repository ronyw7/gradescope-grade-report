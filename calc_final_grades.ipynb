{
  "cells": [
    {
      "cell_type": "markdown",
      "metadata": {
        "id": "p8WBAIbDjqaX"
      },
      "source": [
        "**Requirements**\n",
        "- Class roster, exported from Gradescope.\n",
        "- Grades, exported from Gradescope (`.csv` files). e.g.\n",
        "```\n",
        "Multivitamin_1_scores.csv, Project_1_scores.csv, Project_1_Written_scores.csv\n",
        "```\n",
        "- Grading special cases spreadsheet, with the following columns\n",
        "```\n",
        "name, email, assignment, note, slip day, extension day, deduction\n",
        "```\n"
      ]
    },
    {
      "cell_type": "markdown",
      "metadata": {
        "id": "4v38jZFrlxzp"
      },
      "source": [
        "**Output**\n",
        "\n",
        "- `grades.csv`, containing all student grades and compatible with the autograder."
      ]
    },
    {
      "cell_type": "code",
      "execution_count": null,
      "metadata": {
        "id": "oKVSq25awTNc"
      },
      "outputs": [],
      "source": [
        "import pandas as pd\n",
        "import numpy as np"
      ]
    },
    {
      "cell_type": "code",
      "execution_count": null,
      "metadata": {
        "id": "9GJO-nE11SKe"
      },
      "outputs": [],
      "source": [
        "roster = pd.read_csv('/content/Data_101_Fall_2023_roster.csv', index_col='Email')\n",
        "special = pd.read_csv('/content/Data 101 Fa23 Grading Special Cases.csv', index_col='email')"
      ]
    },
    {
      "cell_type": "code",
      "execution_count": null,
      "metadata": {
        "id": "k19iM8Rf3BX_"
      },
      "outputs": [],
      "source": [
        "def lateness_to_days(raw_time):\n",
        "  if raw_time == 0:\n",
        "    return 0\n",
        "  hours = int(str(raw_time[:2]))\n",
        "  if hours == 0:\n",
        "    return 0\n",
        "  else:\n",
        "    return hours // 24.01 + 1"
      ]
    },
    {
      "cell_type": "markdown",
      "metadata": {
        "id": "tcM3lIbi2Umu"
      },
      "source": [
        "**Project Grades**\n",
        "\n",
        "Four projects worth 52 points total. Each project is 13 points."
      ]
    },
    {
      "cell_type": "code",
      "execution_count": null,
      "metadata": {
        "id": "gzBGNty25fQJ"
      },
      "outputs": [],
      "source": [
        "proj_max_scores = {1: 27, 2: 67, 3: 27, 4: 28}\n",
        "\n",
        "def proj_score(n):\n",
        "  proj_score = pd.read_csv(f'/content/Project_{n}_scores.csv').fillna(0).set_index('Email')\n",
        "  proj_score = proj_score[['Total Score', 'Lateness (H:M:S)']]\n",
        "  proj_score[f'Proj {n} Lateness'] = proj_score['Lateness (H:M:S)'].apply(lateness_to_days)\n",
        "\n",
        "  proj_written_score = pd.read_csv(f'/content/Project_{n}_Written_scores.csv').fillna(0).set_index('Email')\n",
        "  proj_written_score = proj_written_score[['Total Score']]\n",
        "\n",
        "  proj_score[f'Proj {n} Total Score'] = (proj_score['Total Score'] + proj_written_score['Total Score']) / proj_max_scores[n] * 13\n",
        "  return proj_score"
      ]
    },
    {
      "cell_type": "code",
      "execution_count": null,
      "metadata": {
        "id": "EPnOna1C6sbn"
      },
      "outputs": [],
      "source": [
        "for n in range(1, 5):\n",
        "  df = proj_score(n)\n",
        "  roster[f'Project {n} Lateness'] = df[f'Proj {n} Lateness']\n",
        "  roster[f'Project {n} Score'] = df[f'Proj {n} Total Score']\n",
        "  roster[f'Project {n} Auto-Allocated Slip Days'] = np.zeros(roster.shape[0])\n",
        "  roster[f'Project {n} Traded-in Slip Days'] = np.zeros(roster.shape[0])\n",
        "  roster[f'Project {n} Total Slip Days'] = np.zeros(roster.shape[0])\n",
        "  roster[f'Project {n} Traded-in Slip Days'] = np.zeros(roster.shape[0])\n",
        "  roster[f'Project {n} Late Penalty'] = np.zeros(roster.shape[0])\n",
        "  roster[f'Project {n} Notes'] = np.full(roster.shape[0], 'N', dtype='str')\n"
      ]
    },
    {
      "cell_type": "code",
      "execution_count": null,
      "metadata": {
        "id": "dvoco67y8UN_"
      },
      "outputs": [],
      "source": [
        "# Record slip days and record late penalty for special cases\n",
        "for n in range(1, 5):\n",
        "  special_curr_assignment = special[special['assignment'] == f'proj {n}'].fillna(0)\n",
        "  for email, row in special_curr_assignment.iterrows():\n",
        "    roster.loc[email, f'Project {n} Notes'] = row['note']\n",
        "    if row['deduction'] != 0:\n",
        "      roster.loc[email, f'Project {n} Late Penalty'] = row['deduction']\n",
        "      # roster.loc[email, f'Project {n} Score'] = (1 - row['deduction'] / 100) * roster.loc[email, f'Project {n} Score']\n",
        "    if row['slip day'] != 0:\n",
        "      roster.loc[email, f'Project {n} Traded-in Slip Days'] = row['slip day']"
      ]
    },
    {
      "cell_type": "markdown",
      "metadata": {
        "id": "ziAXFfSW8dOP"
      },
      "source": [
        "**Multivitamin Grades**\n",
        "\n",
        "Five multivitamins worth 25 points total. Each multivitamin is 5 points."
      ]
    },
    {
      "cell_type": "code",
      "execution_count": null,
      "metadata": {
        "id": "-xDGhXje7f3X"
      },
      "outputs": [],
      "source": [
        "mv_max_scores = {1: 25, 2: 33, 3: 27, 4: 42, 5: 19}\n",
        "\n",
        "def mv_score(n):\n",
        "  mv_score = pd.read_csv(f'/content/Multivitamin_{n}_scores.csv').fillna(0).set_index('Email')\n",
        "  mv_score =mv_score[['Total Score', 'Lateness (H:M:S)']]\n",
        "  mv_score[f'Multivitamin {n} Lateness'] = mv_score['Lateness (H:M:S)'].apply(lateness_to_days)\n",
        "  mv_score[f'Multivitamin {n} Total Score'] = mv_score['Total Score'] / mv_max_scores[n] * 5\n",
        "  return mv_score"
      ]
    },
    {
      "cell_type": "code",
      "execution_count": null,
      "metadata": {
        "id": "o5VfPSJ89AG8"
      },
      "outputs": [],
      "source": [
        "for n in range(1, 6):\n",
        "  df = mv_score(n)\n",
        "  roster[f'Multivitamin {n} Lateness'] = df[f'Multivitamin {n} Lateness']\n",
        "  roster[f'Multivitamin {n} Score'] = df[f'Multivitamin {n} Total Score']\n",
        "  roster[f'Multivitamin {n} Auto-Allocated Slip Days'] = np.zeros(roster.shape[0])\n",
        "  roster[f'Multivitamin {n} Traded-in Slip Days'] = np.zeros(roster.shape[0])\n",
        "  roster[f'Project {n} Total Slip Days'] = np.zeros(roster.shape[0])\n",
        "  roster[f'Multivitamin {n} Late Penalty'] = np.zeros(roster.shape[0])\n",
        "  roster[f'Multivitamin {n} Notes'] = np.full(roster.shape[0], 'N', dtype='str')"
      ]
    },
    {
      "cell_type": "code",
      "execution_count": null,
      "metadata": {
        "id": "C1S6Nas5cZj4"
      },
      "outputs": [],
      "source": [
        "# Apply slip days and record penalty for special cases\n",
        "for n in range(1, 6):\n",
        "  special_curr_assignment = special[special['assignment'] == f'multi {n}'].fillna(0)\n",
        "  for email, row in special_curr_assignment.iterrows():\n",
        "    roster.loc[email, f'Multivitamin {n} Notes'] = row['note']\n",
        "    if row['deduction'] != 0:\n",
        "      roster.loc[email, f'Multivitamin {n} Late Penalty'] = row['deduction']\n",
        "      # roster.loc[email, f'Multivitamin {n} Score'] = (1 - row['deduction'] / 100) * roster.loc[email, f'Multivitamin {n} Score']\n",
        "    if row['slip day'] != 0:\n",
        "      roster.loc[email, f'Multivitamin {n} Traded-in Slip Days'] = row['slip day']"
      ]
    },
    {
      "cell_type": "markdown",
      "metadata": {
        "id": "XLNdpfT--zkO"
      },
      "source": [
        "**Lecture Attendance Grades**\n",
        "\n",
        "Lecture check-ins worth 8 points total. Drop three. Calculation M / (T - 3). Each worth 8 / 24 points. Capped at 8 points.\n"
      ]
    },
    {
      "cell_type": "code",
      "execution_count": null,
      "metadata": {
        "id": "6LCallWP-_vB"
      },
      "outputs": [],
      "source": [
        "def lec_score():\n",
        "  lec_score = pd.read_csv(f'/content/Lecture_Attendance_scores.csv', index_col='Email').fillna(0)\n",
        "  lec_score =lec_score[['Total Score']]\n",
        "  lec_score['Lecture Attendance Total Score'] = np.minimum(lec_score['Total Score'] / 24 * 8, 8)\n",
        "  return lec_score"
      ]
    },
    {
      "cell_type": "code",
      "execution_count": null,
      "metadata": {
        "id": "yXJuxoQR_SlA"
      },
      "outputs": [],
      "source": [
        " df = lec_score()\n",
        " roster[f'Lecture Attendance Score'] = df['Lecture Attendance Total Score']"
      ]
    },
    {
      "cell_type": "markdown",
      "metadata": {
        "id": "BW8sywL-_lDp"
      },
      "source": [
        "**Slip Days**\n",
        "\n",
        "Calculate Total Late Days & Allocable Slip Days"
      ]
    },
    {
      "cell_type": "code",
      "execution_count": null,
      "metadata": {
        "id": "WnkKdCMG_nI5"
      },
      "outputs": [],
      "source": [
        "late, slip = 0, 0\n",
        "for n in range(1, 5):\n",
        "  late += roster[f'Project {n} Lateness']\n",
        "  slip += roster[f'Project {n} Traded-in Slip Days']\n",
        "\n",
        "for n in range(1, 6):\n",
        "  late += roster[f'Multivitamin {n} Lateness']\n",
        "  slip += roster[f'Multivitamin {n} Traded-in Slip Days']\n",
        "\n",
        "roster['Total Lateness'] = late\n",
        "roster['Total Slip Days Remaining'] = 9 - slip"
      ]
    },
    {
      "cell_type": "markdown",
      "metadata": {
        "id": "AtosdeDTU5Gp"
      },
      "source": [
        "Determine how to apply slip days for students who have more late days than remaining slip days"
      ]
    },
    {
      "cell_type": "code",
      "execution_count": null,
      "metadata": {
        "colab": {
          "base_uri": "https://localhost:8080/"
        },
        "id": "XDfitnY6DHoK",
        "outputId": "da9e79b0-e28f-4f42-fc7c-a4cf812b47e3"
      },
      "outputs": [],
      "source": [
        "to_be_updated = list(roster[roster['Total Lateness'] > roster['Total Slip Days Remaining']].index)\n",
        "to_be_updated"
      ]
    },
    {
      "cell_type": "code",
      "execution_count": null,
      "metadata": {
        "colab": {
          "base_uri": "https://localhost:8080/"
        },
        "id": "w8YIvp6aHXRt",
        "outputId": "e9f91a57-4bd7-4c28-a8a6-d9b81dd648ea"
      },
      "outputs": [],
      "source": [
        "lateness_items = []\n",
        "for i in range(1, 5):\n",
        "  lateness_items.append(f'Project {i}')\n",
        "for i in range(1, 6):\n",
        "  lateness_items.append(f'Multivitamin {i}')\n",
        "lateness_items"
      ]
    },
    {
      "cell_type": "code",
      "execution_count": null,
      "metadata": {
        "id": "T6svXCJnEIkg"
      },
      "outputs": [],
      "source": [
        "for email in roster.index:\n",
        "  if email not in to_be_updated:\n",
        "    for item in lateness_items:\n",
        "      slip_day_curr = roster.loc[email, item + ' Lateness']\n",
        "      if slip_day_curr > 0:\n",
        "        slip_day_curr = int(slip_day_curr)\n",
        "        roster.loc[email, item + ' Auto-Allocated Slip Days'] = slip_day_curr\n",
        "        roster.loc[email, 'Total Slip Days Remaining'] -= slip_day_curr"
      ]
    },
    {
      "cell_type": "code",
      "execution_count": null,
      "metadata": {
        "colab": {
          "base_uri": "https://localhost:8080/"
        },
        "id": "UcjFrTTANhlH",
        "outputId": "26ea9cd9-cdef-41e1-e53e-fd91b21e499f"
      },
      "outputs": [],
      "source": [
        "to_process = {}\n",
        "for email in to_be_updated:\n",
        "  student_late_items = []\n",
        "  for item in lateness_items:\n",
        "    slip_day_curr = roster.loc[email, item + ' Lateness']\n",
        "    if slip_day_curr > 0:\n",
        "      slip_day_curr = int(slip_day_curr)\n",
        "      student_late_items.append(item)\n",
        "  student_late_items.sort(key=lambda item: roster.loc[email, item + ' Score'], reverse=True)\n",
        "  print(email, student_late_items)\n",
        "  to_process[email] = student_late_items"
      ]
    },
    {
      "cell_type": "code",
      "execution_count": null,
      "metadata": {
        "colab": {
          "base_uri": "https://localhost:8080/"
        },
        "id": "zlJk2BdYPQhd",
        "outputId": "96b2b20c-7c50-4fce-809c-9cf3a8abf9a8"
      },
      "outputs": [],
      "source": [
        "for email in to_process:\n",
        "  print(f'Start processing {email}:')\n",
        "  items = to_process[email]\n",
        "  print(f'Late assignments: {items}')\n",
        "  items_to_remove = []\n",
        "  for item in items:\n",
        "    lateness_curr = roster.loc[email, item + ' Lateness']\n",
        "    slip_days_remaining = roster.loc[email, 'Total Slip Days Remaining']\n",
        "    if slip_days_remaining >= lateness_curr:\n",
        "      roster.loc[email, item + ' Auto-Allocated Slip Days'] += lateness_curr\n",
        "      roster.loc[email, 'Total Slip Days Remaining'] -= lateness_curr\n",
        "      items_to_remove.append(item)\n",
        "      print(f'No penalty on {item}')\n",
        "\n",
        "\n",
        "    else:\n",
        "      while slip_days_remaining > 0:\n",
        "        roster.loc[email, item + ' Auto-Allocated Slip Days'] += 1\n",
        "        roster.loc[email, 'Total Slip Days Remaining'] -= 1\n",
        "        slip_days_remaining -= 1\n",
        "\n",
        "  for item in items_to_remove:\n",
        "    items.remove(item)\n",
        "  print(f'Remaining: {items}')\n",
        "  for item in items:\n",
        "    penalty_days = roster.loc[email, item + ' Lateness'] - roster.loc[email, item + ' Auto-Allocated Slip Days']\n",
        "    roster.loc[email, item + ' Late Penalty'] = penalty_days * 15.0"
      ]
    },
    {
      "cell_type": "markdown",
      "metadata": {
        "id": "CQS2Ju4QU_wM"
      },
      "source": [
        "Make a final pass: apply penalty (if any) to grades"
      ]
    },
    {
      "cell_type": "code",
      "execution_count": null,
      "metadata": {
        "id": "JB9nHFAiVCfs"
      },
      "outputs": [],
      "source": [
        "assig_items = lateness_items.copy()\n",
        "for item in assig_items:\n",
        "  roster.loc[:, f'{item} Score'] = roster.loc[:, f'{item} Score'] * (100.0 - roster.loc[:, f'{item} Late Penalty']) / 100.0\n"
      ]
    },
    {
      "cell_type": "markdown",
      "metadata": {
        "id": "PfCzWcRhFSJf"
      },
      "source": [
        "**Final Exam Grades**\n",
        "\n",
        "Add Final Exam Grades: Final Exam is out of 125 points, accounts for 15% of overall grade."
      ]
    },
    {
      "cell_type": "code",
      "execution_count": null,
      "metadata": {
        "id": "LI30Soq-FRXq"
      },
      "outputs": [],
      "source": [
        "final = pd.read_csv('Final_Exam_scores.csv', index_col='Email')\n",
        "for email in roster.index:\n",
        "  roster.loc[email, 'Final Exam Score'] = final.loc[email, 'Total Score'] / 125 * 15"
      ]
    },
    {
      "cell_type": "markdown",
      "metadata": {
        "id": "CqYvd8zveNA_"
      },
      "source": [
        "**Total Score**\n",
        "\n",
        "Calculate total score."
      ]
    },
    {
      "cell_type": "code",
      "execution_count": null,
      "metadata": {
        "id": "swXbAJOn0fIY"
      },
      "outputs": [],
      "source": [
        "roster = roster.fillna(0)"
      ]
    },
    {
      "cell_type": "code",
      "execution_count": null,
      "metadata": {
        "id": "zmYUty5FFRR7"
      },
      "outputs": [],
      "source": [
        "total = 0\n",
        "for n in range(1, 5):\n",
        "  total += roster[f'Project {n} Score']\n",
        "\n",
        "roster['Final Project Score'] = total\n",
        "\n",
        "total = 0\n",
        "for n in range(1, 6):\n",
        "  total += roster[f'Multivitamin {n} Score']\n",
        "\n",
        "roster['Final Multivitamin Score'] = total\n",
        "\n",
        "total = 0\n",
        "for n in range(1, 5):\n",
        "  total += roster[f'Project {n} Score']\n",
        "\n",
        "for n in range(1, 6):\n",
        "  total += roster[f'Multivitamin {n} Score']\n",
        "\n",
        "total += roster['Lecture Attendance Score']\n",
        "total += roster['Final Exam Score']\n",
        "\n",
        "roster['Final Total Score'] = total"
      ]
    },
    {
      "cell_type": "code",
      "execution_count": null,
      "metadata": {
        "colab": {
          "base_uri": "https://localhost:8080/",
          "height": 585
        },
        "id": "6vaHHefmVCYK",
        "outputId": "f07f32a2-155c-4cba-fe13-adee511cc5a1"
      },
      "outputs": [],
      "source": [
        "roster = roster.reset_index()\n",
        "roster.head()"
      ]
    },
    {
      "cell_type": "code",
      "execution_count": null,
      "metadata": {
        "id": "NCZtj531_iju"
      },
      "outputs": [],
      "source": [
        "roster.to_csv('grades.csv')"
      ]
    }
  ],
  "metadata": {
    "colab": {
      "provenance": []
    },
    "kernelspec": {
      "display_name": "Python 3",
      "name": "python3"
    },
    "language_info": {
      "name": "python"
    }
  },
  "nbformat": 4,
  "nbformat_minor": 0
}
